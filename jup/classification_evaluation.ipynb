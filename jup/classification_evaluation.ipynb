{
 "cells": [
  {
   "cell_type": "code",
   "execution_count": null,
   "metadata": {},
   "outputs": [],
   "source": [
    "import pandas as pd\n",
    "import numpy as np\n",
    "from matplotlib import pyplot as plt\n",
    "import seaborn as sns\n",
    "from scipy.stats import wilcoxon\n",
    "pd.set_option('display.max_rows', 25)\n",
    "sns.set(style='whitegrid')"
   ]
  },
  {
   "cell_type": "code",
   "execution_count": null,
   "metadata": {},
   "outputs": [],
   "source": [
    "result_df = pd.read_csv('../result/evaluation_summary.tsv', sep='\\t')\n",
    "# rename methods with their display names\n",
    "methods_dict = {\n",
    "    'orig-py': 'Original\\nPython',\n",
    "    'orig-cpp': 'Original\\nC++',\n",
    "    'nodevectors': 'NodeVectors',\n",
    "    'pecanpy-PreComp': 'PecanPy\\nPreComp',\n",
    "    'pecanpy-SparseOTF': 'PecanPy\\nSparseOTF',\n",
    "    'pecanpy-DenseOTF': 'PecanPy\\nDenseOTF'\n",
    "}\n",
    "\n",
    "for method, name in methods_dict.items():\n",
    "    result_df[\"Method\"].replace(method, name, inplace=True)\n",
    "result_df"
   ]
  },
  {
   "cell_type": "code",
   "execution_count": null,
   "metadata": {},
   "outputs": [],
   "source": [
    "plt.figure(figsize=(9.8,5))\n",
    "color_dict = {\n",
    "    'Original\\nPython': 'skyblue',\n",
    "    'Original\\nC++': 'deepskyblue',\n",
    "    'PecanPy\\nPreComp': '#EED489',\n",
    "    'PecanPy\\nSparseOTF': '#E1B25B',\n",
    "    'PecanPy\\nDenseOTF': '#D79640',\n",
    "    'NodeVectors': 'grey'\n",
    "}\n",
    "f = sns.boxplot(data=result_df, x='Network', y='auROC', hue='Method', \n",
    "                notch=True, palette=color_dict, \n",
    "                order=[\"PPI\", \"BlogCatalog\", \"Wikipedia\"])\n",
    "f.legend(loc='lower center', bbox_to_anchor=(0.5, -0.24), ncol=6)\n",
    "plt.xticks(fontsize=14)\n",
    "plt.xlabel('')\n",
    "plt.tight_layout()\n",
    "plt.show()"
   ]
  }
 ],
 "metadata": {
  "kernelspec": {
   "display_name": "Python 3",
   "language": "python",
   "name": "python3"
  },
  "language_info": {
   "codemirror_mode": {
    "name": "ipython",
    "version": 3
   },
   "file_extension": ".py",
   "mimetype": "text/x-python",
   "name": "python",
   "nbconvert_exporter": "python",
   "pygments_lexer": "ipython3",
   "version": "3.8.5"
  }
 },
 "nbformat": 4,
 "nbformat_minor": 4
}
