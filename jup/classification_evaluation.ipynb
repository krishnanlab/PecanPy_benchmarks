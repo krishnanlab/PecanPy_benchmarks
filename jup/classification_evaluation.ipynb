{
 "cells": [
  {
   "cell_type": "code",
   "execution_count": null,
   "metadata": {},
   "outputs": [],
   "source": [
    "import pandas as pd\n",
    "import numpy as np\n",
    "from matplotlib import pyplot as plt\n",
    "import seaborn as sns\n",
    "from scipy.stats import wilcoxon\n",
    "pd.set_option('display.max_rows', 25)\n",
    "sns.set(style='whitegrid')"
   ]
  },
  {
   "cell_type": "code",
   "execution_count": null,
   "metadata": {},
   "outputs": [],
   "source": [
    "result_df = pd.read_csv('../result/evaluation_summary.tsv', sep='\\t')\n",
    "# rename methods with their display names\n",
    "methods_dict = {\n",
    "    'orig-py': 'Original\\nPython',\n",
    "    'orig-cpp': 'Original\\nC++',\n",
    "    'nodevectors': 'NodeVectors',\n",
    "    'pecanpy-PreComp': 'PecanPy\\nPreComp',\n",
    "    'pecanpy-SparseOTF': 'PecanPy\\nSparseOTF',\n",
    "    'pecanpy-DenseOTF': 'PecanPy\\nDenseOTF'\n",
    "}\n",
    "\n",
    "for method, name in methods_dict.items():\n",
    "    result_df[\"Method\"].replace(method, name, inplace=True)\n",
    "result_df"
   ]
  },
  {
   "cell_type": "code",
   "execution_count": null,
   "metadata": {},
   "outputs": [],
   "source": [
    "plt.figure(figsize=(9.8,5))\n",
    "color_dict = {\n",
    "    'Original\\nPython': 'skyblue',\n",
    "    'Original\\nC++': 'deepskyblue',\n",
    "    'PecanPy\\nPreComp': '#EED489',\n",
    "    'PecanPy\\nSparseOTF': '#E1B25B',\n",
    "    'PecanPy\\nDenseOTF': '#D79640',\n",
    "    'NodeVectors': 'grey'\n",
    "}\n",
    "f = sns.boxplot(data=result_df, x='Network', y='auROC', hue='Method', \n",
    "                notch=True, palette=color_dict, \n",
    "                order=[\"PPI\", \"BlogCatalog\", \"Wikipedia\"])\n",
    "f.legend(loc='lower center', bbox_to_anchor=(0.5, -0.24), ncol=6)\n",
    "plt.xticks(fontsize=14)\n",
    "plt.xlabel('')\n",
    "plt.tight_layout()\n",
    "# plt.savefig(\"FigS10.png\", dpi=90)\n",
    "plt.show()"
   ]
  },
  {
   "cell_type": "code",
   "execution_count": null,
   "metadata": {},
   "outputs": [],
   "source": [
    "statistics_df = pd.DataFrame()\n",
    "methods = list(result_df['Method'].unique())\n",
    "methods.pop(methods.index('Original\\nPython'))\n",
    "methods_converted = [i.replace('\\n', ' ') for i in methods]\n",
    "for network in result_df['Network'].unique():\n",
    "    result_dict = {}\n",
    "    for method in methods:\n",
    "        result_dict[method] = result_df[(result_df['Network'] == network) &\n",
    "                                                 (result_df['Method'] == method)]['auROC'].values\n",
    "\n",
    "    orig_score = result_df[(result_df['Network'] == network) & \n",
    "                      (result_df['Method'] == 'Original\\nPython')]['auROC'].values\n",
    "    \n",
    "    pval_lst = []\n",
    "    for i, j in result_dict.items():\n",
    "        pval_lst.append(f'{wilcoxon(orig_score,j)[1]:.3e}')\n",
    "    \n",
    "    tmp_df = pd.DataFrame()\n",
    "    tmp_df['Wilcoxon p-val'] = pval_lst\n",
    "    tmp_df['Method Compared'] = methods_converted\n",
    "    tmp_df['Network'] = network\n",
    "    statistics_df = pd.concat([statistics_df, tmp_df], ignore_index=True)\n",
    "\n",
    "statistics_df.to_csv('../result/wilcoxon_statistics.tsv', sep='\\t', index=False)\n",
    "statistics_df"
   ]
  }
 ],
 "metadata": {
  "kernelspec": {
   "display_name": "Python 3",
   "language": "python",
   "name": "python3"
  },
  "language_info": {
   "codemirror_mode": {
    "name": "ipython",
    "version": 3
   },
   "file_extension": ".py",
   "mimetype": "text/x-python",
   "name": "python",
   "nbconvert_exporter": "python",
   "pygments_lexer": "ipython3",
   "version": "3.8.5"
  }
 },
 "nbformat": 4,
 "nbformat_minor": 4
}
